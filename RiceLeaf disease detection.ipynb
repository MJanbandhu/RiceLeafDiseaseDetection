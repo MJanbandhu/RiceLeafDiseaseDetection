{
 "cells": [
  {
   "cell_type": "markdown",
   "id": "e167727e",
   "metadata": {},
   "source": [
    "## Import Libraries"
   ]
  },
  {
   "cell_type": "code",
   "execution_count": 1,
   "id": "992ba4a8",
   "metadata": {},
   "outputs": [],
   "source": [
    "import numpy as np\n",
    "import pandas as pd\n",
    "import matplotlib.pyplot as plt\n",
    "import seaborn as sns"
   ]
  },
  {
   "cell_type": "markdown",
   "id": "db19719c",
   "metadata": {},
   "source": [
    "## Import Frameworks"
   ]
  },
  {
   "cell_type": "code",
   "execution_count": 2,
   "id": "71d62b7a",
   "metadata": {},
   "outputs": [],
   "source": [
    "import keras\n",
    "import tensorflow\n",
    "from tensorflow.keras.preprocessing.image import ImageDataGenerator"
   ]
  },
  {
   "cell_type": "code",
   "execution_count": 3,
   "id": "a3a00c54",
   "metadata": {},
   "outputs": [],
   "source": [
    "# Define data directory \n",
    "#data_dir = 'PRCP-1001-RiceLeaf - Data/'\n",
    "data_dir ='E:\\\\Data Mites\\\\MyProject\\\\PRCP-1001\\\\Data'"
   ]
  },
  {
   "cell_type": "code",
   "execution_count": 4,
   "id": "c562b91c",
   "metadata": {},
   "outputs": [
    {
     "data": {
      "text/plain": [
       "'E:\\\\Data Mites\\\\MyProject\\\\PRCP-1001\\\\Data'"
      ]
     },
     "execution_count": 4,
     "metadata": {},
     "output_type": "execute_result"
    }
   ],
   "source": [
    "data_dir\n"
   ]
  },
  {
   "cell_type": "code",
   "execution_count": 5,
   "id": "a4e2c3a2",
   "metadata": {},
   "outputs": [],
   "source": [
    "datagen = ImageDataGenerator(\n",
    "    rescale=1./255,  \n",
    "    validation_split=0.2,  \n",
    "    rotation_range=20,  \n",
    "    width_shift_range=0.2,  \n",
    "    height_shift_range=0.2,  \n",
    "    shear_range=0.2,  \n",
    "    zoom_range=0.2,  \n",
    "    horizontal_flip=True, \n",
    "    fill_mode='nearest'\n",
    ")"
   ]
  },
  {
   "cell_type": "code",
   "execution_count": 6,
   "id": "9395508f",
   "metadata": {},
   "outputs": [],
   "source": [
    "# Set size of images\n",
    "batch_size = 32\n",
    "image_height = 250  \n",
    "image_width = 200"
   ]
  },
  {
   "cell_type": "code",
   "execution_count": 7,
   "id": "f84eb6ed",
   "metadata": {},
   "outputs": [
    {
     "name": "stdout",
     "output_type": "stream",
     "text": [
      "Found 96 images belonging to 3 classes.\n",
      "Found 23 images belonging to 3 classes.\n"
     ]
    }
   ],
   "source": [
    "train_generator = datagen.flow_from_directory(\n",
    "    data_dir,\n",
    "    target_size=(image_height, image_width),\n",
    "    batch_size=batch_size,\n",
    "    class_mode='categorical',  \n",
    "    subset='training'  \n",
    ")\n",
    "\n",
    "validation_generator = datagen.flow_from_directory(\n",
    "    data_dir,\n",
    "    target_size=(image_height, image_width),\n",
    "    batch_size=batch_size,\n",
    "    class_mode='categorical',\n",
    "    subset='validation'  \n",
    ")"
   ]
  },
  {
   "cell_type": "markdown",
   "id": "0b78dd95",
   "metadata": {},
   "source": [
    "# Model Creation"
   ]
  },
  {
   "cell_type": "code",
   "execution_count": 8,
   "id": "2ee035d3",
   "metadata": {},
   "outputs": [],
   "source": [
    "from tensorflow.keras.models import Sequential\n",
    "from tensorflow.keras.layers import Conv2D, MaxPooling2D, Flatten, Dense, Dropout"
   ]
  },
  {
   "cell_type": "code",
   "execution_count": 9,
   "id": "241297fb",
   "metadata": {},
   "outputs": [],
   "source": [
    "# Create a sequential model\n",
    "model = Sequential()\n",
    "\n",
    "# Add convolutional layers\n",
    "model.add(Conv2D(32, (3, 3), activation='relu', input_shape=(image_height, image_width, 3)))\n",
    "model.add(MaxPooling2D(2, 2))\n",
    "model.add(Conv2D(64, (3, 3), activation='relu'))\n",
    "model.add(MaxPooling2D(2, 2))\n",
    "model.add(Conv2D(128, (3, 3), activation='relu'))\n",
    "model.add(MaxPooling2D(2, 2))"
   ]
  },
  {
   "cell_type": "code",
   "execution_count": 10,
   "id": "d2ecdaaf",
   "metadata": {},
   "outputs": [],
   "source": [
    "# Flatten the output\n",
    "model.add(Flatten())"
   ]
  },
  {
   "cell_type": "code",
   "execution_count": 11,
   "id": "72bd24f0",
   "metadata": {},
   "outputs": [],
   "source": [
    "# Add dense layers - For the 3 classes\n",
    "model.add(Dense(512, activation='relu'))\n",
    "model.add(Dropout(0.5))\n",
    "model.add(Dense(3, activation='softmax')) "
   ]
  },
  {
   "cell_type": "code",
   "execution_count": 12,
   "id": "78182d47",
   "metadata": {},
   "outputs": [],
   "source": [
    "# Compile the model\n",
    "model.compile(optimizer='adam', loss='categorical_crossentropy', metrics=['accuracy'])"
   ]
  },
  {
   "cell_type": "code",
   "execution_count": null,
   "id": "b005ae5c",
   "metadata": {},
   "outputs": [
    {
     "name": "stdout",
     "output_type": "stream",
     "text": [
      "Epoch 1/55\n",
      "3/3 [==============================] - 24s 7s/step - loss: 3.6582 - accuracy: 0.3646 - val_loss: 4.4578 - val_accuracy: 0.3478\n",
      "Epoch 2/55\n",
      "3/3 [==============================] - 16s 6s/step - loss: 2.0978 - accuracy: 0.3646 - val_loss: 1.2251 - val_accuracy: 0.3043\n",
      "Epoch 3/55\n",
      "3/3 [==============================] - 15s 5s/step - loss: 1.1493 - accuracy: 0.3125 - val_loss: 1.0807 - val_accuracy: 0.3478\n",
      "Epoch 4/55\n",
      "3/3 [==============================] - 14s 5s/step - loss: 1.0908 - accuracy: 0.3854 - val_loss: 1.0587 - val_accuracy: 0.5652\n",
      "Epoch 5/55\n",
      "3/3 [==============================] - 15s 5s/step - loss: 1.1349 - accuracy: 0.3333 - val_loss: 1.0498 - val_accuracy: 0.3043\n",
      "Epoch 6/55\n",
      "3/3 [==============================] - 15s 5s/step - loss: 1.0977 - accuracy: 0.3542 - val_loss: 1.0841 - val_accuracy: 0.3913\n",
      "Epoch 7/55\n",
      "3/3 [==============================] - 15s 5s/step - loss: 1.0720 - accuracy: 0.3854 - val_loss: 1.0470 - val_accuracy: 0.3043\n",
      "Epoch 8/55\n",
      "3/3 [==============================] - 15s 5s/step - loss: 1.0400 - accuracy: 0.3958 - val_loss: 1.0422 - val_accuracy: 0.4348\n",
      "Epoch 9/55\n",
      "3/3 [==============================] - 15s 5s/step - loss: 1.0037 - accuracy: 0.4688 - val_loss: 0.9806 - val_accuracy: 0.5217\n",
      "Epoch 10/55\n",
      "3/3 [==============================] - 15s 5s/step - loss: 0.9386 - accuracy: 0.4896 - val_loss: 0.9666 - val_accuracy: 0.5217\n",
      "Epoch 11/55\n",
      "3/3 [==============================] - 15s 5s/step - loss: 0.9038 - accuracy: 0.5938 - val_loss: 1.0912 - val_accuracy: 0.4348\n",
      "Epoch 12/55\n",
      "3/3 [==============================] - 15s 5s/step - loss: 0.8257 - accuracy: 0.5625 - val_loss: 1.0940 - val_accuracy: 0.4783\n",
      "Epoch 13/55\n",
      "3/3 [==============================] - 14s 4s/step - loss: 0.8816 - accuracy: 0.5833 - val_loss: 1.7297 - val_accuracy: 0.3913\n",
      "Epoch 14/55\n",
      "3/3 [==============================] - 13s 4s/step - loss: 0.8874 - accuracy: 0.5729 - val_loss: 1.8411 - val_accuracy: 0.3478\n",
      "Epoch 15/55\n",
      "3/3 [==============================] - 14s 5s/step - loss: 0.8316 - accuracy: 0.6354 - val_loss: 1.1880 - val_accuracy: 0.4783\n",
      "Epoch 16/55\n",
      "3/3 [==============================] - 13s 5s/step - loss: 0.8448 - accuracy: 0.6458 - val_loss: 1.9803 - val_accuracy: 0.6087\n",
      "Epoch 17/55\n",
      "3/3 [==============================] - 13s 4s/step - loss: 0.7634 - accuracy: 0.6771 - val_loss: 1.3580 - val_accuracy: 0.5217\n",
      "Epoch 18/55\n",
      "3/3 [==============================] - 13s 4s/step - loss: 0.7187 - accuracy: 0.7083 - val_loss: 2.4786 - val_accuracy: 0.5652\n",
      "Epoch 19/55\n",
      "3/3 [==============================] - 13s 4s/step - loss: 0.7740 - accuracy: 0.6354 - val_loss: 1.3418 - val_accuracy: 0.5217\n",
      "Epoch 20/55\n",
      "3/3 [==============================] - 13s 4s/step - loss: 0.7047 - accuracy: 0.7083 - val_loss: 1.9202 - val_accuracy: 0.6087\n",
      "Epoch 21/55\n",
      "3/3 [==============================] - 13s 4s/step - loss: 0.6781 - accuracy: 0.7083 - val_loss: 1.3733 - val_accuracy: 0.7826\n",
      "Epoch 22/55\n",
      "3/3 [==============================] - 13s 4s/step - loss: 0.6470 - accuracy: 0.7188 - val_loss: 2.0185 - val_accuracy: 0.6957\n",
      "Epoch 23/55\n",
      "3/3 [==============================] - 13s 4s/step - loss: 0.6919 - accuracy: 0.6458 - val_loss: 1.6224 - val_accuracy: 0.7826\n",
      "Epoch 24/55\n",
      "3/3 [==============================] - 13s 4s/step - loss: 0.6394 - accuracy: 0.7083 - val_loss: 2.2350 - val_accuracy: 0.6957\n",
      "Epoch 25/55\n",
      "3/3 [==============================] - 13s 5s/step - loss: 0.5817 - accuracy: 0.7917 - val_loss: 1.5073 - val_accuracy: 0.5652\n",
      "Epoch 26/55\n",
      "3/3 [==============================] - 13s 4s/step - loss: 0.6266 - accuracy: 0.6875 - val_loss: 3.6619 - val_accuracy: 0.5652\n",
      "Epoch 27/55\n",
      "3/3 [==============================] - 13s 4s/step - loss: 0.5821 - accuracy: 0.7917 - val_loss: 1.8593 - val_accuracy: 0.6522\n",
      "Epoch 28/55\n",
      "3/3 [==============================] - 13s 4s/step - loss: 0.6196 - accuracy: 0.7188 - val_loss: 1.6101 - val_accuracy: 0.6522\n",
      "Epoch 29/55\n",
      "3/3 [==============================] - 13s 4s/step - loss: 0.4788 - accuracy: 0.7604 - val_loss: 4.0200 - val_accuracy: 0.6957\n",
      "Epoch 30/55\n"
     ]
    }
   ],
   "source": [
    "epochs = 55\n",
    "history = model.fit(\n",
    "    train_generator,\n",
    "    epochs=epochs,\n",
    "    validation_data=validation_generator\n",
    ")"
   ]
  },
  {
   "cell_type": "markdown",
   "id": "bdc154c8",
   "metadata": {},
   "source": [
    "### Model needs to be trained at least 50 epochs as instructed during lessons by Ram"
   ]
  },
  {
   "cell_type": "markdown",
   "id": "d8bbc9f0",
   "metadata": {},
   "source": [
    "# Model Evaluation"
   ]
  },
  {
   "cell_type": "code",
   "execution_count": null,
   "id": "e1209b22",
   "metadata": {},
   "outputs": [],
   "source": [
    "test_dir = 'PRCP-1001-RiceLeaf - Test_data'\n",
    "\n",
    "test_datagen = ImageDataGenerator(rescale=1./255) \n",
    "\n",
    "test_generator = test_datagen.flow_from_directory(\n",
    "    test_dir,\n",
    "    target_size=(image_height, image_width),\n",
    "    batch_size=batch_size,\n",
    "    class_mode='categorical'\n",
    ")\n",
    "\n",
    "# Evaluate model using test data\n",
    "test_loss, test_accuracy = model.evaluate(test_generator)\n",
    "print(f'Test loss: {test_loss:.4f}')\n",
    "print(f'Test accuracy: {test_accuracy:.4f}')\n"
   ]
  },
  {
   "cell_type": "code",
   "execution_count": null,
   "id": "c0f21007",
   "metadata": {},
   "outputs": [],
   "source": []
  }
 ],
 "metadata": {
  "kernelspec": {
   "display_name": "Python 3 (ipykernel)",
   "language": "python",
   "name": "python3"
  },
  "language_info": {
   "codemirror_mode": {
    "name": "ipython",
    "version": 3
   },
   "file_extension": ".py",
   "mimetype": "text/x-python",
   "name": "python",
   "nbconvert_exporter": "python",
   "pygments_lexer": "ipython3",
   "version": "3.10.9"
  }
 },
 "nbformat": 4,
 "nbformat_minor": 5
}
